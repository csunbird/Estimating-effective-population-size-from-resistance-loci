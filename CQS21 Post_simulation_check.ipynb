{
 "cells": [
  {
   "cell_type": "markdown",
   "metadata": {},
   "source": [
    "Post simulation checks"
   ]
  },
  {
   "cell_type": "code",
   "execution_count": null,
   "metadata": {},
   "outputs": [],
   "source": [
    "# Import modules\n",
    "import numpy as np\n",
    "import zarr\n",
    "#import allel   \n",
    "#idk why but my allel doesnt seem to load?? even though ive definitely installed it as scikit-allel\n",
    "import scipy.cluster.hierarchy as sch\n",
    "import scipy.spatial\n",
    "import matplotlib\n",
    "import matplotlib.pyplot as plt\n",
    "import scipy.signal\n",
    "from scipy.ndimage import gaussian_filter1d\n",
    "from numpy.lib.stride_tricks import sliding_window_view\n",
    "from tqdm import tqdm\n",
    "import dask\n",
    "from dask.delayed import delayed\n",
    "from dask.base import compute\n",
    "from itertools import combinations\n",
    "import time\n",
    "import seaborn as sns\n",
    "import sys\n",
    "import tskit"
   ]
  },
  {
   "cell_type": "markdown",
   "metadata": {},
   "source": [
    "1. import in vcf/ tree file to examine population size\n"
   ]
  },
  {
   "cell_type": "code",
   "execution_count": null,
   "metadata": {},
   "outputs": [],
   "source": [
    "# checking .tree outputs\n",
    "import tskit\n",
    "#tskit.load(file=\"C:/CHEYANNE STUFF/ICL Biology/Year 3/Final year project/burnin_no.19_early.trees\")\n",
    "tskit.load(file=\"C:/CHEYANNE STUFF/ICL Biology/Year 3/Final year project/burnin_no.19_early_10.trees\")\n",
    "\n",
    "\n",
    "# install pyslim !!! issue here involving msprime? pyslim cannot be imported/downloaded\n",
    "#import pyslim\n",
    "\n",
    "# read into pyslim and calculate nucleotide diversity and compare against expected nucleotide diversity (theta)\n",
    "# check that it exceeds 10% and not more than 20%\n"
   ]
  },
  {
   "cell_type": "markdown",
   "metadata": {},
   "source": [
    "2. Plot nucleotide diversity for all simulations.\n",
    "- red flag if smaller than 10% or greater than 20%\n",
    "- a. confidence intervals!"
   ]
  },
  {
   "cell_type": "code",
   "execution_count": null,
   "metadata": {},
   "outputs": [],
   "source": []
  }
 ],
 "metadata": {
  "language_info": {
   "name": "python"
  }
 },
 "nbformat": 4,
 "nbformat_minor": 2
}
